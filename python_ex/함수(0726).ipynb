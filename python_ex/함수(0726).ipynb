{
 "cells": [
  {
   "cell_type": "markdown",
   "id": "304c2d9a-7492-4618-924f-8febee4f2208",
   "metadata": {},
   "source": [
    "## 튜플, 리스트"
   ]
  },
  {
   "cell_type": "code",
   "execution_count": 1,
   "id": "8096ecfc-62d7-4979-8497-85e3b3535f36",
   "metadata": {},
   "outputs": [
    {
     "data": {
      "text/plain": [
       "10"
      ]
     },
     "execution_count": 1,
     "metadata": {},
     "output_type": "execute_result"
    }
   ],
   "source": [
    "tuple_test = (10,20,30)\n",
    "tuple_test[0]"
   ]
  },
  {
   "cell_type": "code",
   "execution_count": 2,
   "id": "6be8ce01-8190-471f-ba00-21825aadfe37",
   "metadata": {},
   "outputs": [
    {
     "name": "stdout",
     "output_type": "stream",
     "text": [
      "a: 10\n",
      "b: 20\n"
     ]
    }
   ],
   "source": [
    "[a,b] = [10,20]\n",
    "(c,d) = (10,20)\n",
    "\n",
    "print(\"a:\",a)\n",
    "print(\"b:\",b)"
   ]
  },
  {
   "cell_type": "code",
   "execution_count": 3,
   "id": "2df4ffe9-fa27-4acb-a6e7-c795a881762e",
   "metadata": {},
   "outputs": [
    {
     "name": "stdout",
     "output_type": "stream",
     "text": [
      "a: 10\n",
      "b: 20\n"
     ]
    }
   ],
   "source": [
    "[a,b] = (10,20)\n",
    "(c,d) = (10,20)\n",
    "\n",
    "print(\"a:\",a)\n",
    "print(\"b:\",b)"
   ]
  },
  {
   "cell_type": "code",
   "execution_count": 5,
   "id": "79f60dec-062e-47b4-a9bf-beef9729e897",
   "metadata": {},
   "outputs": [
    {
     "name": "stdout",
     "output_type": "stream",
     "text": [
      "10\n",
      "[20, 30, 40, 50]\n"
     ]
    }
   ],
   "source": [
    "#가변변수는 list형태로 출력됨\n",
    "(a,*b) = (10,20,30,40,50)\n",
    "print(a)\n",
    "print(b)"
   ]
  },
  {
   "cell_type": "code",
   "execution_count": 10,
   "id": "fc7e14d6-79a8-4185-a4c8-0601f5d46bf5",
   "metadata": {},
   "outputs": [
    {
     "name": "stdout",
     "output_type": "stream",
     "text": [
      "a: 10\n",
      "b: 20\n"
     ]
    }
   ],
   "source": [
    "# return에서 test()로 이동함\n",
    "#대입 연산자는 왼쪽부터 읽기 시작함\n",
    "def test():\n",
    "    return(10,20)\n",
    "a,b = test()\n",
    "\n",
    "print(\"a:\",a)\n",
    "print(\"b:\",b)\n"
   ]
  },
  {
   "cell_type": "markdown",
   "id": "66aa23cd-13da-471d-b456-fbd58b73561c",
   "metadata": {},
   "source": [
    "## 집합(set) : 괄호는 dictionary와 비슷. 형식은 다름"
   ]
  },
  {
   "cell_type": "code",
   "execution_count": 11,
   "id": "a75b8b17-6c78-49ad-b953-1bca0228f03b",
   "metadata": {},
   "outputs": [
    {
     "name": "stdout",
     "output_type": "stream",
     "text": [
      "#교환 전 값\n",
      "a: 10\n",
      "b: 20\n",
      "\n",
      "#교환 후 값:\n",
      "a: 20\n",
      "b: 10\n",
      "\n"
     ]
    }
   ],
   "source": [
    "a,b = 10,20\n",
    "\n",
    "print(\"#교환 전 값\")\n",
    "print(\"a:\",a)\n",
    "print(\"b:\",b)\n",
    "print()\n",
    "\n",
    "#값을 교환합니다.\n",
    "a,b = b, a \n",
    "\n",
    "print(\"#교환 후 값:\")\n",
    "print(\"a:\",a)\n",
    "print(\"b:\",b)\n",
    "print()"
   ]
  },
  {
   "cell_type": "code",
   "execution_count": 13,
   "id": "61900483-4e5d-4e3a-a93f-e1c033189dff",
   "metadata": {},
   "outputs": [
    {
     "name": "stdout",
     "output_type": "stream",
     "text": [
      "a: 10\n",
      "b: 20\n"
     ]
    }
   ],
   "source": [
    "def test():\n",
    "    return(10,20)\n",
    "a,b = test()\n",
    "\n",
    "print(\"a:\",a)\n",
    "print(\"b:\",b)\n"
   ]
  },
  {
   "cell_type": "code",
   "execution_count": 15,
   "id": "9919cc8b-c434-49bb-b22a-34991b6e0178",
   "metadata": {},
   "outputs": [
    {
     "data": {
      "text/plain": [
       "{1, 2, 3, 4, 5, 6}"
      ]
     },
     "execution_count": 15,
     "metadata": {},
     "output_type": "execute_result"
    }
   ],
   "source": [
    "# a|b, union(a,b) : 합집합\n",
    "a = {1,2,3,4}\n",
    "b = {3,4,5,6}\n",
    "a|b\n",
    "set.union(a,b)"
   ]
  },
  {
   "cell_type": "code",
   "execution_count": 20,
   "id": "64797513-dac4-4fea-960f-e890b53ef725",
   "metadata": {},
   "outputs": [
    {
     "data": {
      "text/plain": [
       "{3, 4}"
      ]
     },
     "execution_count": 20,
     "metadata": {},
     "output_type": "execute_result"
    }
   ],
   "source": [
    "# a&b, intersection(a,b) : 교집합\n",
    "a = {1,2,3,4}\n",
    "b = {3,4,5,6}\n",
    "a&b\n",
    "set.intersection(a,b)\n"
   ]
  },
  {
   "cell_type": "code",
   "execution_count": 22,
   "id": "79383487-ee9e-4e09-a12a-bed73ef1c1de",
   "metadata": {},
   "outputs": [
    {
     "data": {
      "text/plain": [
       "{1, 2}"
      ]
     },
     "execution_count": 22,
     "metadata": {},
     "output_type": "execute_result"
    }
   ],
   "source": [
    "# 차집합\n",
    "a-b\n",
    "set.difference(a,b)"
   ]
  },
  {
   "cell_type": "code",
   "execution_count": 44,
   "id": "00753e5d-0a94-42f1-ad2e-9df242b50d3d",
   "metadata": {},
   "outputs": [],
   "source": [
    "a = {1,2, 4}"
   ]
  },
  {
   "cell_type": "code",
   "execution_count": 45,
   "id": "72ac97bb-0e72-4947-bbd3-13ec321adadf",
   "metadata": {},
   "outputs": [
    {
     "name": "stdout",
     "output_type": "stream",
     "text": [
      "None\n"
     ]
    }
   ],
   "source": [
    "\n",
    "# a.add(5)\n",
    "# print(a.remove(3))\n",
    "print(a.discard(2))\n",
    "# a.pop()\n",
    "# a.clear()"
   ]
  },
  {
   "cell_type": "code",
   "execution_count": 46,
   "id": "01515494-a5f0-47a6-91a1-4ec5a4f51efa",
   "metadata": {},
   "outputs": [
    {
     "name": "stdout",
     "output_type": "stream",
     "text": [
      "{1, 4}\n"
     ]
    }
   ],
   "source": [
    "print(a)"
   ]
  },
  {
   "cell_type": "code",
   "execution_count": 36,
   "id": "1b2660a5-e39a-4f10-b9c2-ef536853692f",
   "metadata": {},
   "outputs": [
    {
     "data": {
      "text/plain": [
       "{1, 3, 4}"
      ]
     },
     "execution_count": 36,
     "metadata": {},
     "output_type": "execute_result"
    }
   ],
   "source": [
    "a"
   ]
  },
  {
   "cell_type": "code",
   "execution_count": 47,
   "id": "19a0d430-9fcc-4e01-b057-625c07e3e296",
   "metadata": {},
   "outputs": [
    {
     "data": {
      "text/plain": [
       "{1, 2, 3, 4, 5, 6}"
      ]
     },
     "execution_count": 47,
     "metadata": {},
     "output_type": "execute_result"
    }
   ],
   "source": [
    "# 형변환\n",
    "a = [1,2,3,3,4,5,6]\n",
    "b = set(a)\n",
    "b"
   ]
  },
  {
   "cell_type": "code",
   "execution_count": null,
   "id": "8abce141-e387-4d5b-8178-91c7aab1f65a",
   "metadata": {},
   "outputs": [],
   "source": []
  },
  {
   "cell_type": "code",
   "execution_count": null,
   "id": "9f3afe2e-53cc-425b-9659-294abbfca653",
   "metadata": {},
   "outputs": [],
   "source": []
  },
  {
   "cell_type": "code",
   "execution_count": null,
   "id": "dac823a3-cf83-48f3-8180-b0e7a895e9cb",
   "metadata": {},
   "outputs": [],
   "source": []
  },
  {
   "cell_type": "code",
   "execution_count": null,
   "id": "1919fd68-3845-476d-aea1-24ee3ece72ff",
   "metadata": {},
   "outputs": [],
   "source": []
  },
  {
   "cell_type": "code",
   "execution_count": null,
   "id": "4ceb61ad-87b2-4d51-aefc-54dafb103403",
   "metadata": {},
   "outputs": [],
   "source": []
  },
  {
   "cell_type": "code",
   "execution_count": null,
   "id": "0f891d04-6b3c-450e-b64a-b3c3168b29a6",
   "metadata": {},
   "outputs": [],
   "source": []
  },
  {
   "cell_type": "code",
   "execution_count": null,
   "id": "8f024298-9c63-4615-90ba-c3b6beea94e6",
   "metadata": {},
   "outputs": [],
   "source": []
  },
  {
   "cell_type": "code",
   "execution_count": null,
   "id": "dc52cd93-4efd-4ba8-b1b4-dee019bc8acc",
   "metadata": {},
   "outputs": [],
   "source": []
  },
  {
   "cell_type": "code",
   "execution_count": null,
   "id": "098ab84c-fa0a-466e-ab53-1b047dfea566",
   "metadata": {},
   "outputs": [],
   "source": []
  }
 ],
 "metadata": {
  "kernelspec": {
   "display_name": "Python 3 (ipykernel)",
   "language": "python",
   "name": "python3"
  },
  "language_info": {
   "codemirror_mode": {
    "name": "ipython",
    "version": 3
   },
   "file_extension": ".py",
   "mimetype": "text/x-python",
   "name": "python",
   "nbconvert_exporter": "python",
   "pygments_lexer": "ipython3",
   "version": "3.10.14"
  }
 },
 "nbformat": 4,
 "nbformat_minor": 5
}
