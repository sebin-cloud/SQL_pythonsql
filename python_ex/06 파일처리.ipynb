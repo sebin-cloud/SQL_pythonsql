{
 "cells": [
  {
   "cell_type": "markdown",
   "id": "1eb4d7c8-a14a-46c8-958f-98f11c768f31",
   "metadata": {},
   "source": [
    "# 파일처리\n",
    "## 파일 쓰기\n",
    "- 파일 오픈, 파일명, 모드(쓰기 모드 : w), 식별자(파일의 객체)\n",
    "- 쓰기 모드 \n",
    "    w : 파일에 overwrite, \n",
    "    a :파일의 뒷부분에 추가(append)\n",
    "- 마지막에 clost()"
   ]
  },
  {
   "cell_type": "code",
   "execution_count": 12,
   "id": "36c2940e-bc75-41e0-98fc-571f91c5732e",
   "metadata": {},
   "outputs": [],
   "source": [
    "# 파일 오픈\n",
    "#식별자 = open(\"파일명\",\"모드\")\n",
    "# shift+ tab -> 변수들을 볼 수 있음\n",
    "file = open(\"test.txt\",\"a\",encoding= \"UTF-8\")\n",
    "\n",
    "\n",
    "#파일에 데이터 쓰기\n",
    "file.write(\"안녕 파일 쓰기 처음이야.2\\n\")\n",
    "file.write(\"\\n hello? How are you doing?2\\n\")\n",
    "\n",
    "#file 닫기\n",
    "file.close()"
   ]
  },
  {
   "cell_type": "markdown",
   "id": "3eb329f0-b687-43c9-a882-e7ad88dc719a",
   "metadata": {},
   "source": [
    "## 파일읽기"
   ]
  },
  {
   "cell_type": "code",
   "execution_count": 18,
   "id": "4084f766-d85e-4598-bb00-6a5a1092a97f",
   "metadata": {},
   "outputs": [
    {
     "name": "stdout",
     "output_type": "stream",
     "text": [
      "안녕 파일 쓰기 처음이야.hello? How are you doing?안녕 파일 쓰기 처음이야.2hello? How are you doing?2안녕 파일 쓰기 처음이야.2\n",
      "hello? How are you doing?2\n",
      "안녕 파일 쓰기 처음이야.2\n",
      "\n",
      " hello? How are you doing?2\n",
      "안녕 파일 쓰기 처음이야.2\n",
      "\n",
      " hello? How are you doing?2\n",
      "안녕 파일 쓰기 처음이야.2\n",
      "\n",
      " hello? How are you doing?2\n",
      "\n",
      "<class 'str'>\n"
     ]
    }
   ],
   "source": [
    "file = open(\"test.txt\",\"r\",encoding = \"utf-8\")\n",
    "data = file.read()\n",
    "print(data)\n",
    "print(type(data))"
   ]
  },
  {
   "cell_type": "code",
   "execution_count": 23,
   "id": "141801cc-51d1-4c88-824e-b6fd38abcb8c",
   "metadata": {},
   "outputs": [],
   "source": [
    "with open(\"basic.txt\",\"w\") as file:\n",
    "    file.write(\"Hello Python Programming..!\")"
   ]
  },
  {
   "cell_type": "code",
   "execution_count": 24,
   "id": "65f363be-bd71-49ff-92b0-707cdd1c8e70",
   "metadata": {},
   "outputs": [
    {
     "name": "stdout",
     "output_type": "stream",
     "text": [
      "Hello Python Programming..!\n"
     ]
    }
   ],
   "source": [
    "## with 문을 사용, 파일 엑세스\n",
    "with open(\"basic.txt\",\"r\") as file:\n",
    "    contents = file.read()\n",
    "print(contents)"
   ]
  },
  {
   "cell_type": "code",
   "execution_count": null,
   "id": "61944d77-bdab-42e1-adec-cacd6e87e9f1",
   "metadata": {},
   "outputs": [],
   "source": []
  },
  {
   "cell_type": "code",
   "execution_count": null,
   "id": "db863a3f-10aa-4d15-9691-d171c3b90d12",
   "metadata": {},
   "outputs": [],
   "source": []
  },
  {
   "cell_type": "code",
   "execution_count": null,
   "id": "d7924b70-8657-4352-bc0b-1b401ee7e2a7",
   "metadata": {},
   "outputs": [],
   "source": []
  },
  {
   "cell_type": "code",
   "execution_count": null,
   "id": "2d38fd01-b676-4336-b5d5-2edc6f139a2b",
   "metadata": {},
   "outputs": [],
   "source": []
  },
  {
   "cell_type": "code",
   "execution_count": null,
   "id": "3dcbe840-ceaa-41eb-8101-80212880bc26",
   "metadata": {},
   "outputs": [],
   "source": []
  },
  {
   "cell_type": "code",
   "execution_count": null,
   "id": "44938eab-81ea-47a6-a45c-16664ea94947",
   "metadata": {},
   "outputs": [],
   "source": []
  },
  {
   "cell_type": "code",
   "execution_count": null,
   "id": "c5d99d60-ced8-491c-a88a-e4b82d42ec76",
   "metadata": {},
   "outputs": [],
   "source": []
  },
  {
   "cell_type": "code",
   "execution_count": null,
   "id": "3922d8dc-d599-4522-8ada-619936650eb4",
   "metadata": {},
   "outputs": [],
   "source": []
  },
  {
   "cell_type": "code",
   "execution_count": null,
   "id": "15186143-7b25-4eb3-9a4d-2988a4a35be0",
   "metadata": {},
   "outputs": [],
   "source": []
  },
  {
   "cell_type": "code",
   "execution_count": null,
   "id": "e13e9c40-8fc9-4f2a-8642-9f2c4e2179bd",
   "metadata": {},
   "outputs": [],
   "source": []
  },
  {
   "cell_type": "code",
   "execution_count": null,
   "id": "20a0bb4b-0381-4295-a3ec-9b5cc20b3c3a",
   "metadata": {},
   "outputs": [],
   "source": []
  },
  {
   "cell_type": "code",
   "execution_count": null,
   "id": "bfb355b5-8079-4307-84a9-e2f3ead5f808",
   "metadata": {},
   "outputs": [],
   "source": []
  },
  {
   "cell_type": "code",
   "execution_count": null,
   "id": "3c01b930-71f1-49aa-acbb-0c4faaf1c41f",
   "metadata": {},
   "outputs": [],
   "source": []
  }
 ],
 "metadata": {
  "kernelspec": {
   "display_name": "Python 3 (ipykernel)",
   "language": "python",
   "name": "python3"
  },
  "language_info": {
   "codemirror_mode": {
    "name": "ipython",
    "version": 3
   },
   "file_extension": ".py",
   "mimetype": "text/x-python",
   "name": "python",
   "nbconvert_exporter": "python",
   "pygments_lexer": "ipython3",
   "version": "3.10.14"
  }
 },
 "nbformat": 4,
 "nbformat_minor": 5
}
