{
 "cells": [
  {
   "cell_type": "code",
   "execution_count": null,
   "metadata": {
    "id": "nQOk9eTDZ-xP"
   },
   "outputs": [],
   "source": []
  },
  {
   "cell_type": "markdown",
   "metadata": {
    "id": "lbxw-Gn-aD3x"
   },
   "source": [
    "# 기본 매개변수\n",
    "- 함수정의부의 매개변수에 기본값을 대입\n",
    "- 호출부에서 그 매개변수의 값을 전달하지 않으면 디폴트 값으로 사용됨"
   ]
  },
  {
   "cell_type": "code",
   "execution_count": 1,
   "metadata": {
    "colab": {
     "base_uri": "https://localhost:8080/"
    },
    "executionInfo": {
     "elapsed": 4,
     "status": "ok",
     "timestamp": 1721886197089,
     "user": {
      "displayName": "안녕",
      "userId": "12615715097118845696"
     },
     "user_tz": -540
    },
    "id": "-75JC-cQaDJB",
    "outputId": "44de3773-381e-4e99-ba8f-4fe5b1e2604b"
   },
   "outputs": [
    {
     "name": "stdout",
     "output_type": "stream",
     "text": [
      "안녕하세요\n",
      "안녕하세요\n"
     ]
    }
   ],
   "source": [
    "#정의부\n",
    "def print_n_time(value, n=2):\n",
    "    for i in range(n):\n",
    "        print(value)\n",
    "\n",
    "#호출부\n",
    "#전달하지 않으면 기본값 (n=2)로 적용됨\n",
    "print_n_time(\"안녕하세요\")\n",
    "\n"
   ]
  },
  {
   "cell_type": "code",
   "execution_count": 5,
   "metadata": {
    "colab": {
     "base_uri": "https://localhost:8080/"
    },
    "executionInfo": {
     "elapsed": 300,
     "status": "ok",
     "timestamp": 1721886911438,
     "user": {
      "displayName": "안녕",
      "userId": "12615715097118845696"
     },
     "user_tz": -540
    },
    "id": "UYZhYB8DaDE6",
    "outputId": "7a6e81ed-43b5-4b43-901c-c28663cb6fbc"
   },
   "outputs": [
    {
     "name": "stdout",
     "output_type": "stream",
     "text": [
      "안녕하세요\n",
      "즐거운\n",
      "파이썬 프로그래밍\n",
      "\n",
      "안녕하세요\n",
      "즐거운\n",
      "파이썬 프로그래밍\n",
      "\n",
      "안녕하세요\n",
      "즐거운\n",
      "파이썬 프로그래밍\n",
      "\n",
      "안녕하세요\n",
      "즐거운\n",
      "파이썬 프로그래밍\n",
      "\n",
      "안녕하세요\n",
      "즐거운\n",
      "파이썬 프로그래밍\n",
      "\n"
     ]
    }
   ],
   "source": [
    "def print_n_times(*values,n=2):\n",
    "    for i in range(n):\n",
    "        for value in values:\n",
    "            print(value)\n",
    "        print()\n",
    "print_n_times(\"안녕하세요\",\"즐거운\",\"파이썬 프로그래밍\",n=5)"
   ]
  },
  {
   "cell_type": "code",
   "execution_count": 6,
   "metadata": {
    "colab": {
     "base_uri": "https://localhost:8080/"
    },
    "executionInfo": {
     "elapsed": 335,
     "status": "ok",
     "timestamp": 1721888415439,
     "user": {
      "displayName": "안녕",
      "userId": "12615715097118845696"
     },
     "user_tz": -540
    },
    "id": "4B4HkGROaDBR",
    "outputId": "b93758ec-3adf-402d-e8e0-b63ee5741c7f"
   },
   "outputs": [
    {
     "name": "stdout",
     "output_type": "stream",
     "text": [
      "100\n"
     ]
    }
   ],
   "source": [
    "def return_test():\n",
    "    return 100\n",
    "value = return_test()\n",
    "print(value)"
   ]
  },
  {
   "cell_type": "code",
   "execution_count": 9,
   "metadata": {
    "colab": {
     "base_uri": "https://localhost:8080/"
    },
    "executionInfo": {
     "elapsed": 294,
     "status": "ok",
     "timestamp": 1721888529078,
     "user": {
      "displayName": "안녕",
      "userId": "12615715097118845696"
     },
     "user_tz": -540
    },
    "id": "bFcevh1uaC9i",
    "outputId": "dd320ddd-eb4e-4369-8a9c-37e0870d694b"
   },
   "outputs": [
    {
     "name": "stdout",
     "output_type": "stream",
     "text": [
      "None\n"
     ]
    }
   ],
   "source": [
    "def return_test():\n",
    "    return\n",
    "value = return_test()\n",
    "print(value)"
   ]
  },
  {
   "cell_type": "code",
   "execution_count": 10,
   "metadata": {
    "colab": {
     "base_uri": "https://localhost:8080/"
    },
    "executionInfo": {
     "elapsed": 300,
     "status": "ok",
     "timestamp": 1721888698642,
     "user": {
      "displayName": "안녕",
      "userId": "12615715097118845696"
     },
     "user_tz": -540
    },
    "id": "gAOJ_QFfaC7q",
    "outputId": "49ddb79c-7133-4ab9-f48c-ae835828bd8c"
   },
   "outputs": [
    {
     "name": "stdout",
     "output_type": "stream",
     "text": [
      "hello\n"
     ]
    }
   ],
   "source": [
    "#return은 함수 자체에 들어가는 것\n",
    "# 이후에도 사용할 수 있음\n",
    "def return_test():\n",
    "    a = \"hello\"\n",
    "    return a\n",
    "value = return_test()\n",
    "print(value)"
   ]
  },
  {
   "cell_type": "markdown",
   "metadata": {
    "id": "Q9Y4eRPraC5h"
   },
   "source": [
    "## escape +m, escape +y "
   ]
  },
  {
   "cell_type": "code",
   "execution_count": 2,
   "metadata": {
    "id": "GZGUJ4cpaC1q"
   },
   "outputs": [
    {
     "name": "stdout",
     "output_type": "stream",
     "text": [
      "A. 550\n"
     ]
    }
   ],
   "source": [
    "def sum_all(start=0, end=100, step=1):\n",
    "    output=0\n",
    "    \n",
    "    for i in range(start,end+1,step):\n",
    "        output += i\n",
    "    return output\n",
    "\n",
    "print(\"A.\",sum_all(0,100,10))\n"
   ]
  },
  {
   "cell_type": "markdown",
   "metadata": {
    "id": "mRhTj8-8aCzK"
   },
   "source": [
    "## 확인문제1"
   ]
  },
  {
   "cell_type": "code",
   "execution_count": 7,
   "metadata": {
    "id": "vjOnXwEgbXbx"
   },
   "outputs": [
    {
     "name": "stdout",
     "output_type": "stream",
     "text": [
      "21\n"
     ]
    }
   ],
   "source": [
    "def f(x):\n",
    "    return 2*x+1\n",
    "print(f(10))"
   ]
  },
  {
   "cell_type": "code",
   "execution_count": 8,
   "metadata": {
    "id": "RvdhXR8CbXaB"
   },
   "outputs": [
    {
     "name": "stdout",
     "output_type": "stream",
     "text": [
      "29\n"
     ]
    }
   ],
   "source": [
    "def f(x):\n",
    "    return x^2 + 2*x+1\n",
    "print(f(10))"
   ]
  },
  {
   "cell_type": "markdown",
   "metadata": {
    "id": "wO0pHJLObXWZ"
   },
   "source": [
    "## 확인문제2"
   ]
  },
  {
   "cell_type": "code",
   "execution_count": 36,
   "metadata": {
    "id": "RYHR6jFcjpLL"
   },
   "outputs": [
    {
     "name": "stdout",
     "output_type": "stream",
     "text": [
      "3150\n"
     ]
    }
   ],
   "source": [
    "def mul(*values):\n",
    "    multi = 1\n",
    "    for value in values:\n",
    "            multi *= value\n",
    "    return multi\n",
    "\n",
    "        \n",
    "print(mul(5,7,9,10))"
   ]
  },
  {
   "cell_type": "markdown",
   "metadata": {
    "id": "1X6zw3bjjpIz"
   },
   "source": [
    "## 확인문제3"
   ]
  },
  {
   "cell_type": "code",
   "execution_count": 30,
   "metadata": {
    "id": "1nUBQN6QjpGw"
   },
   "outputs": [
    {
     "ename": "TypeError",
     "evalue": "function() missing 2 required keyword-only arguments: 'valueA' and 'valueB'",
     "output_type": "error",
     "traceback": [
      "\u001b[1;31m---------------------------------------------------------------------------\u001b[0m",
      "\u001b[1;31mTypeError\u001b[0m                                 Traceback (most recent call last)",
      "Cell \u001b[1;32mIn[30], line 3\u001b[0m\n\u001b[0;32m      1\u001b[0m \u001b[38;5;28;01mdef\u001b[39;00m \u001b[38;5;21mfunction\u001b[39m(\u001b[38;5;241m*\u001b[39mvalues, valueA, valueB):\n\u001b[0;32m      2\u001b[0m     \u001b[38;5;28;01mpass\u001b[39;00m\n\u001b[1;32m----> 3\u001b[0m \u001b[43mfunction\u001b[49m\u001b[43m(\u001b[49m\u001b[38;5;241;43m1\u001b[39;49m\u001b[43m,\u001b[49m\u001b[38;5;241;43m2\u001b[39;49m\u001b[43m,\u001b[49m\u001b[38;5;241;43m3\u001b[39;49m\u001b[43m,\u001b[49m\u001b[38;5;241;43m4\u001b[39;49m\u001b[43m,\u001b[49m\u001b[38;5;241;43m5\u001b[39;49m\u001b[43m)\u001b[49m\n",
      "\u001b[1;31mTypeError\u001b[0m: function() missing 2 required keyword-only arguments: 'valueA' and 'valueB'"
     ]
    }
   ],
   "source": [
    "def function(*values, valueA, valueB):\n",
    "    pass\n",
    "function(1,2,3,4,5)"
   ]
  },
  {
   "cell_type": "code",
   "execution_count": 32,
   "metadata": {
    "id": "VSofUTEBjpEZ"
   },
   "outputs": [],
   "source": [
    "def function(*values, valueA=10, valueB=220):\n",
    "    pass\n",
    "function(1,2,3,4,5)"
   ]
  },
  {
   "cell_type": "code",
   "execution_count": 33,
   "metadata": {
    "id": "69o2RqYPjpCX"
   },
   "outputs": [],
   "source": [
    "def function(valueA, valueB, *values):\n",
    "    pass\n",
    "function(1,2,3,4,5)"
   ]
  },
  {
   "cell_type": "code",
   "execution_count": 34,
   "metadata": {},
   "outputs": [],
   "source": [
    "def function(valueA=10, valueB=20, *values):\n",
    "    pass\n",
    "function(1,2,3,4,5)"
   ]
  },
  {
   "cell_type": "markdown",
   "metadata": {},
   "source": [
    "## 확인문제4"
   ]
  },
  {
   "cell_type": "code",
   "execution_count": 62,
   "metadata": {},
   "outputs": [
    {
     "name": "stdout",
     "output_type": "stream",
     "text": [
      "15는 3과 5의 공배수입니다.\n",
      "30는 3과 5의 공배수입니다.\n",
      "45는 3과 5의 공배수입니다.\n",
      "60는 3과 5의 공배수입니다.\n",
      "75는 3과 5의 공배수입니다.\n",
      "90는 3과 5의 공배수입니다.\n"
     ]
    }
   ],
   "source": [
    "# 두 수의 공배수 구하는 함수 구하기\n",
    "# return하면 한번 함수가 돌아가면 끝남. print으로 바꿔주기\n",
    "def comMul(num1,num2):\n",
    " \n",
    "    for i in range(1,101):\n",
    "        if i % num1 == 0 and i % num2 == 0 :\n",
    "               print((f\"{i}는 {num1}과 {num2}의 공배수입니다.\"))\n",
    "\n",
    "comMul(3,5)"
   ]
  },
  {
   "cell_type": "code",
   "execution_count": 60,
   "metadata": {},
   "outputs": [
    {
     "data": {
      "text/plain": [
       "'15는 3과 5의 공배수입니다.'"
      ]
     },
     "execution_count": 60,
     "metadata": {},
     "output_type": "execute_result"
    }
   ],
   "source": [
    "# 두 수의 공배수 구하는 함수 구하기\n",
    "def comMul(num1,num2):\n",
    "    result = []\n",
    "    for i in range(1,101):\n",
    "        if i % num1 == 0 and i % num2 == 0 :\n",
    "            result.append(i)\n",
    "    for a in result :\n",
    "        return (f\"{a}는 {num1}과 {num2}의 공배수입니다.\")\n",
    "\n",
    "comMul(3,5)"
   ]
  },
  {
   "cell_type": "code",
   "execution_count": null,
   "metadata": {},
   "outputs": [],
   "source": []
  },
  {
   "cell_type": "code",
   "execution_count": null,
   "metadata": {},
   "outputs": [],
   "source": []
  },
  {
   "cell_type": "code",
   "execution_count": null,
   "metadata": {},
   "outputs": [],
   "source": []
  }
 ],
 "metadata": {
  "colab": {
   "authorship_tag": "ABX9TyPGFtkrAHfUu+6mKmGRHEva",
   "provenance": []
  },
  "kernelspec": {
   "display_name": "Python 3 (ipykernel)",
   "language": "python",
   "name": "python3"
  },
  "language_info": {
   "codemirror_mode": {
    "name": "ipython",
    "version": 3
   },
   "file_extension": ".py",
   "mimetype": "text/x-python",
   "name": "python",
   "nbconvert_exporter": "python",
   "pygments_lexer": "ipython3",
   "version": "3.10.9"
  }
 },
 "nbformat": 4,
 "nbformat_minor": 4
}
